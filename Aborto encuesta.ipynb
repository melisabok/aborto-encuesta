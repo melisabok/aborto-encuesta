{
 "cells": [
  {
   "cell_type": "code",
   "execution_count": 21,
   "metadata": {
    "collapsed": false
   },
   "outputs": [],
   "source": [
    "import csv\n",
    "import operator\n",
    "from nltk import word_tokenize\n",
    "import nltk\n",
    "from nltk.corpus import stopwords\n",
    "from nltk.stem.snowball import SpanishStemmer\n",
    "import string\n",
    "import json\n",
    "from gensim.models import Phrases, LdaModel, LsiModel, TfidfModel\n",
    "from gensim import corpora\n",
    "from gensim.utils import simple_preprocess\n",
    "from gensim.parsing.preprocessing import STOPWORDS\n",
    "import nltk.stem as stem\n",
    "porter = stem.PorterStemmer()"
   ]
  },
  {
   "cell_type": "code",
   "execution_count": 22,
   "metadata": {
    "collapsed": false
   },
   "outputs": [],
   "source": [
    "rows = []\n",
    "with open('data.csv', newline='') as csvfile:\n",
    "    datareader = csv.reader(csvfile)\n",
    "    next(datareader)\n",
    "    for row in datareader:\n",
    "        rows.append(row)"
   ]
  },
  {
   "cell_type": "code",
   "execution_count": 23,
   "metadata": {
    "collapsed": false
   },
   "outputs": [
    {
     "data": {
      "text/plain": [
       "'CLAVE: difusión de datos para desmitificar la discusión. También creo que hubo una buena sinergia entre las acciones en la calle y su posterior repercusión en redes'"
      ]
     },
     "execution_count": 23,
     "metadata": {},
     "output_type": "execute_result"
    }
   ],
   "source": [
    "rows[0][12]"
   ]
  },
  {
   "cell_type": "code",
   "execution_count": 24,
   "metadata": {
    "collapsed": false
   },
   "outputs": [
    {
     "data": {
      "text/plain": [
       "'Entran en discusiones intramovimiento y la repetición de trabajo por falta de coordinación '"
      ]
     },
     "execution_count": 24,
     "metadata": {},
     "output_type": "execute_result"
    }
   ],
   "source": [
    "rows[0][13]"
   ]
  },
  {
   "cell_type": "code",
   "execution_count": 118,
   "metadata": {
    "collapsed": false
   },
   "outputs": [],
   "source": [
    "stop_words = stopwords.words('spanish') + list(string.punctuation) + \\\n",
    "['``', \"''\", '”', '“', 'mas', 'del','si', 'creo', 'aborto', 'sé', 'quizás', 'parece', 'sino', 'veces', \n",
    " 'siempre', 'aunque', 'solo', 'negativo', 'ninguna', 'acciones', 'personas', 'parte', 'todas', 'gente', 'falta', \n",
    " 'grupos', 'favor', 'muchas', 'puede', 'cierto', 'espacio', 'cantidad', 'muchas', 'estado', 'persona', 'masiva', 'negativa', \n",
    " 'negativas', 'vez', 'ser', 'mucha', 'tal', 'q', '...', 'cualquier', 'bien', 'decir', 'haber', 'tipo', 'tema'\n",
    "]"
   ]
  },
  {
   "cell_type": "code",
   "execution_count": 119,
   "metadata": {
    "collapsed": false
   },
   "outputs": [],
   "source": [
    "replacements = {\n",
    "    'iglesias': 'iglesia',\n",
    "    'pañuelos': 'pañuelo', \n",
    "    'pañuelazos': 'pañuelazo',\n",
    "    'movilizacion': 'movilización',\n",
    "    'movilizaciones': 'movilización',\n",
    "    'movimiento': 'movilización',\n",
    "    'marcha': 'movilización',\n",
    "    'marchas': 'movilización',\n",
    "    'manifestaciones': 'movilización',\n",
    "    'masivos': 'masivo',\n",
    "    'masivas': 'masivo',\n",
    "    'masiva': 'masivo',\n",
    "    'debates': 'debate',\n",
    "    'tv': 'medios',\n",
    "    'television': 'medios',\n",
    "    'televisión': 'medios',\n",
    "    'calle': 'calles',\n",
    "    'negativa': 'negativo',\n",
    "    'negativas': 'negativo',\n",
    "    'violentas': 'violencia',\n",
    "    'violenta': 'violencia',\n",
    "    'redes': 'redes_sociales'\n",
    "}"
   ]
  },
  {
   "cell_type": "code",
   "execution_count": 120,
   "metadata": {
    "collapsed": true
   },
   "outputs": [],
   "source": [
    "phrases = {\n",
    "    'pro vida': 'provida',\n",
    "    'redes sociales': 'redes_sociales',\n",
    "    'dela': 'de la'\n",
    "}\n",
    "\n",
    "def replace_phrases(text):\n",
    "    for k, v in phrases.items():\n",
    "        text = text.replace(k, v)\n",
    "    return text"
   ]
  },
  {
   "cell_type": "code",
   "execution_count": 121,
   "metadata": {
    "collapsed": false
   },
   "outputs": [],
   "source": [
    "# stemmer = SpanishStemmer()\n",
    "# stemmed_dictionary = {}\n",
    "# def tokenize(text):\n",
    "#     tokens = word_tokenize(replace_phrases(text))\n",
    "#     return tokens\n",
    "#     filtered_tokens = []\n",
    "#     for token in tokens:\n",
    "#         lower_token = token.lower()\n",
    "        \n",
    "#         if lower_token not in stop_words and len(lower_token) > 4:\n",
    "#             lower_token = replacements.get(lower_token, lower_token)\n",
    "#             stemmed_token = stemmer.stem(lower_token)\n",
    "#             if stemmed_token in stemmed_dictionary:\n",
    "#                 if lower_token in stemmed_dictionary[stemmed_token]:\n",
    "#                     count_yet = stemmed_dictionary[stemmed_token][lower_token]\n",
    "#                     stemmed_dictionary[stemmed_token][lower_token] = count_yet + 1\n",
    "#                 else:\n",
    "#                     stemmed_dictionary[stemmed_token][lower_token] = 1\n",
    "#             else:\n",
    "#                 stemmed_dictionary[stemmed_token] = {lower_token: 1}            \n",
    "            \n",
    "#             filtered_tokens.append(stemmed_token)\n",
    "#         #else:\n",
    "#             #print('ignore', lower_token)\n",
    "#     return filtered_tokens"
   ]
  },
  {
   "cell_type": "code",
   "execution_count": 122,
   "metadata": {
    "collapsed": false
   },
   "outputs": [],
   "source": [
    "# all_positive_tokens = []\n",
    "# all_negative_tokens = []\n",
    "# positive_tokens = []\n",
    "# negative_tokens = []\n",
    "# for row in rows:\n",
    "#     p_tokens = tokenize(row[12])\n",
    "#     all_positive_tokens.extend(p_tokens)\n",
    "#     positive_tokens.append(p_tokens)\n",
    "#     n_tokens = tokenize(row[13])\n",
    "#     all_negative_tokens.extend(n_tokens)\n",
    "#     negative_tokens.append(n_tokens)\n",
    "\n",
    "positive_tokens = []\n",
    "negative_tokens = []\n",
    "for row in rows:\n",
    "    positive_tokens.extend(word_tokenize(row[12]))\n",
    "    negative_tokens.extend(word_tokenize(row[13]))\n",
    "    \n",
    "positive = []\n",
    "for w in positive_tokens:\n",
    "    token = w.lower()\n",
    "    token = replacements.get(token, token)\n",
    "    if token not in stop_words:\n",
    "        positive.append(token)\n",
    "        \n",
    "negative = []\n",
    "for w in negative_tokens:\n",
    "    token = w.lower()\n",
    "    token = replacements.get(token, token)\n",
    "    if token not in stop_words:\n",
    "        negative.append(token)\n",
    "        \n",
    "        \n",
    "#filtered_positive_tokens = [replacements.get(w.lower(), w.lower()) for w in positive_tokens if w.lower() not in stop_words]\n",
    "#filtered_negative_tokens = [replacements.get(w.lower(), w.lower()) for w in negative_tokens if w.lower() not in stop_words]"
   ]
  },
  {
   "cell_type": "code",
   "execution_count": 123,
   "metadata": {
    "collapsed": false
   },
   "outputs": [],
   "source": [
    "positive_text = nltk.Text(positive)\n",
    "negative_text = nltk.Text(negative)"
   ]
  },
  {
   "cell_type": "code",
   "execution_count": 124,
   "metadata": {
    "collapsed": false
   },
   "outputs": [],
   "source": [
    "p_dist = nltk.FreqDist(positive_text)\n",
    "n_dist = nltk.FreqDist(negative_text)"
   ]
  },
  {
   "cell_type": "code",
   "execution_count": 125,
   "metadata": {
    "collapsed": false
   },
   "outputs": [
    {
     "data": {
      "text/plain": [
       "[('movilización', 341),\n",
       " ('debate', 249),\n",
       " ('pañuelazo', 238),\n",
       " ('medios', 166),\n",
       " ('calles', 147),\n",
       " ('congreso', 145),\n",
       " ('redes_sociales', 120),\n",
       " ('mujeres', 115),\n",
       " ('pañuelo', 95),\n",
       " ('exposiciones', 93),\n",
       " ('masivo', 85),\n",
       " ('información', 82),\n",
       " ('sociales', 76),\n",
       " ('difusión', 58),\n",
       " ('actrices', 44),\n",
       " ('presencia', 40),\n",
       " ('comunicación', 38),\n",
       " ('verde', 37),\n",
       " ('apoyo', 35),\n",
       " ('datos', 34),\n",
       " ('testimonios', 34),\n",
       " ('vigilias', 32),\n",
       " ('intervenciones', 31),\n",
       " ('charlas', 29),\n",
       " ('campaña', 27),\n",
       " ('diferentes', 27),\n",
       " ('verdes', 27),\n",
       " ('feministas', 24),\n",
       " ('gran', 24),\n",
       " ('lucha', 24),\n",
       " ('hablar', 22),\n",
       " ('informacion', 21),\n",
       " ('participación', 21),\n",
       " ('figuras', 20),\n",
       " ('públicas', 20),\n",
       " ('visibilizar', 20),\n",
       " ('jóvenes', 20),\n",
       " ('argumentos', 20),\n",
       " ('sociedad', 20),\n",
       " ('visibilizacion', 20),\n",
       " ('espacios', 19),\n",
       " ('programas', 19),\n",
       " ('diputados', 19),\n",
       " ('pública', 19),\n",
       " ('difusion', 19),\n",
       " ('exposición', 19),\n",
       " ('visibilización', 18),\n",
       " ('distintos', 18),\n",
       " ('masividad', 18),\n",
       " ('abortos', 18)]"
      ]
     },
     "execution_count": 125,
     "metadata": {},
     "output_type": "execute_result"
    }
   ],
   "source": [
    "p_dist.most_common(50)"
   ]
  },
  {
   "cell_type": "code",
   "execution_count": 126,
   "metadata": {
    "collapsed": false
   },
   "outputs": [
    {
     "data": {
      "text/plain": [
       "[('medios', 83),\n",
       " ('debate', 81),\n",
       " ('iglesia', 63),\n",
       " ('violencia', 63),\n",
       " ('movilización', 52),\n",
       " ('información', 41),\n",
       " ('antiderechos', 32),\n",
       " ('desinformación', 32),\n",
       " ('vida', 30),\n",
       " ('argumentos', 27),\n",
       " ('redes_sociales', 26),\n",
       " ('pro', 26),\n",
       " ('mujeres', 25),\n",
       " ('sectores', 23),\n",
       " ('pintadas', 23),\n",
       " ('legalización', 23),\n",
       " ('provida', 23),\n",
       " ('ley', 22),\n",
       " ('sociales', 20),\n",
       " ('lucha', 20),\n",
       " ('derechos', 20),\n",
       " ('comunicación', 18),\n",
       " ('legal', 18),\n",
       " ('campaña', 18),\n",
       " ('sociedad', 16),\n",
       " ('anti', 16),\n",
       " ('acción', 16),\n",
       " ('falsa', 14),\n",
       " ('senadores', 14),\n",
       " ('feministas', 14),\n",
       " ('opinión', 13),\n",
       " ('paredes', 13),\n",
       " ('hablar', 13),\n",
       " ('poder', 13),\n",
       " ('masivo', 13),\n",
       " ('pañuelo', 13),\n",
       " ('mal', 13),\n",
       " ('alguna', 12),\n",
       " ('discusión', 12),\n",
       " ('considero', 12),\n",
       " ('causa', 12),\n",
       " ('lado', 12),\n",
       " ('ejemplo', 11),\n",
       " ('cosas', 11),\n",
       " ('espacios', 11),\n",
       " ('etc', 11),\n",
       " ('agresiones', 11),\n",
       " ('postura', 11),\n",
       " ('hecho', 11),\n",
       " ('influencia', 11)]"
      ]
     },
     "execution_count": 126,
     "metadata": {},
     "output_type": "execute_result"
    }
   ],
   "source": [
    "n_dist.most_common(50)"
   ]
  },
  {
   "cell_type": "code",
   "execution_count": 127,
   "metadata": {
    "collapsed": true
   },
   "outputs": [],
   "source": [
    "\n",
    "features = []\n",
    "for f in p_dist.most_common(50):\n",
    "    features.append({\n",
    "            'text': 'p_' + f[0],\n",
    "            'size': f[1],\n",
    "            'type': 'positive'\n",
    "        })\n",
    "for f in n_dist.most_common(50):\n",
    "    features.append({\n",
    "            'text': 'n_' + f[0],\n",
    "            'size': f[1],\n",
    "            'type': 'negative'\n",
    "        })    \n",
    "with open('most_informative_features.json', 'w') as f:\n",
    "    json.dump(features, f)"
   ]
  },
  {
   "cell_type": "code",
   "execution_count": 252,
   "metadata": {
    "collapsed": false
   },
   "outputs": [
    {
     "name": "stderr",
     "output_type": "stream",
     "text": [
      "//anaconda/envs/py36/lib/python3.6/site-packages/jupyter_client/jsonutil.py:67: DeprecationWarning: Interpreting naive datetime as local 2018-12-26 11:40:37.897110. Please add timezone info to timestamps.\n",
      "  new_obj[k] = extract_dates(v)\n"
     ]
    }
   ],
   "source": [
    "features = []\n",
    "for f in p_dist.most_common(50):\n",
    "    features.append({\n",
    "            'text': 'p_' + max(stemmed_dictionary[f[0]].items(), key=operator.itemgetter(1))[0],\n",
    "            'size': f[1],\n",
    "            'type': 'positive'\n",
    "        })\n",
    "for f in n_dist.most_common(50):\n",
    "    features.append({\n",
    "            'text': 'n_' + max(stemmed_dictionary[f[0]].items(), key=operator.itemgetter(1))[0],\n",
    "            'size': f[1],\n",
    "            'type': 'negative'\n",
    "        })    \n",
    "with open('most_informative_features.json', 'w') as f:\n",
    "    json.dump(features, f)"
   ]
  },
  {
   "cell_type": "code",
   "execution_count": 229,
   "metadata": {
    "collapsed": false
   },
   "outputs": [
    {
     "name": "stderr",
     "output_type": "stream",
     "text": [
      "//anaconda/envs/py36/lib/python3.6/site-packages/jupyter_client/jsonutil.py:67: DeprecationWarning: Interpreting naive datetime as local 2018-12-26 11:21:13.866410. Please add timezone info to timestamps.\n",
      "  new_obj[k] = extract_dates(v)\n"
     ]
    }
   ],
   "source": [
    "dictionary = corpora.Dictionary(positive_tokens)\n",
    "dictionary.filter_extremes(0.05, 10)\n",
    "dictionary.compactify()\n",
    "corpus = [dictionary.doc2bow(token) for token in tokens]\n",
    "lda = LdaModel(corpus, num_topics=5, id2word=dictionary, passes=15)"
   ]
  },
  {
   "cell_type": "code",
   "execution_count": 222,
   "metadata": {
    "collapsed": false
   },
   "outputs": [
    {
     "name": "stdout",
     "output_type": "stream",
     "text": [
      "(0, '0.086*\"gent\" + 0.027*\"darl\" + 0.017*\"social\" + 0.016*\"mujer\"')\n",
      "(1, '0.093*\"accion\" + 0.056*\"favor\" + 0.041*\"mujer\" + 0.019*\"part\"')\n",
      "(2, '0.040*\"senador\" + 0.019*\"sexual\" + 0.018*\"mayor\" + 0.016*\"discusion\"')\n",
      "(3, '0.055*\"sector\" + 0.032*\"part\" + 0.022*\"posicion\" + 0.016*\"comunicacion\"')\n",
      "(4, '0.120*\"debat\" + 0.029*\"parec\" + 0.022*\"opinion\" + 0.015*\"call\"')\n"
     ]
    }
   ],
   "source": [
    "topics = lda.print_topics(num_words=4)\n",
    "for topic in topics:\n",
    "    print(topic)"
   ]
  },
  {
   "cell_type": "code",
   "execution_count": 223,
   "metadata": {
    "collapsed": false
   },
   "outputs": [
    {
     "name": "stdout",
     "output_type": "stream",
     "text": [
      "LSA Topics:\n",
      "Topic:  0 -0.902*\"debat\" + -0.374*\"accion\" + -0.161*\"gent\" + -0.065*\"favor\" + -0.062*\"sector\" + -0.049*\"mujer\" + -0.041*\"parec\" + -0.039*\"pued\" + -0.034*\"senador\" + -0.031*\"opinion\"\n",
      "Topic:  1 -0.901*\"accion\" + 0.389*\"debat\" + -0.136*\"sector\" + -0.067*\"mujer\" + -0.039*\"favor\" + 0.039*\"gent\" + -0.036*\"grand\" + -0.032*\"mejor\" + -0.031*\"mayor\" + -0.030*\"part\"\n",
      "Topic:  2 -0.973*\"gent\" + 0.171*\"debat\" + -0.088*\"favor\" + -0.061*\"parec\" + -0.051*\"opinion\" + 0.040*\"accion\" + -0.036*\"part\" + -0.031*\"mujer\" + -0.027*\"sexual\" + -0.027*\"suficient\"\n",
      "Topic:  3 0.921*\"favor\" + 0.255*\"sector\" + -0.112*\"accion\" + -0.107*\"gent\" + 0.106*\"legal\" + 0.098*\"part\" + 0.068*\"mujer\" + 0.059*\"opinion\" + 0.059*\"posicion\" + 0.057*\"personaj\"\n",
      "Topic:  4 -0.930*\"sector\" + 0.251*\"favor\" + 0.133*\"mujer\" + -0.133*\"informacion\" + 0.113*\"accion\" + 0.071*\"part\" + -0.043*\"respond\" + -0.042*\"expresion\" + -0.038*\"gent\" + 0.032*\"legal\"\n"
     ]
    }
   ],
   "source": [
    "tfidf = TfidfModel(corpus)\n",
    "corpus_tfidf = tfidf[corpus]\n",
    "\n",
    "lsi = LsiModel(corpus_tfidf, id2word=dictionary, num_topics=5)\n",
    "\n",
    "print(\"LSA Topics:\")\n",
    "for i in lsi.show_topics():\n",
    "    print(\"Topic: \", i[0], i[1])"
   ]
  },
  {
   "cell_type": "code",
   "execution_count": 224,
   "metadata": {
    "collapsed": false
   },
   "outputs": [
    {
     "name": "stdout",
     "output_type": "stream",
     "text": [
      "(0, '0.040*\"gent\" + 0.040*\"favor\" + 0.032*\"part\" + 0.021*\"debat\"')\n",
      "(1, '0.041*\"quien\" + 0.028*\"ley\" + 0.027*\"senador\" + 0.019*\"agresion\"')\n",
      "(2, '0.046*\"debat\" + 0.021*\"legal\" + 0.019*\"opinion\" + 0.015*\"lugar\"')\n",
      "(3, '0.050*\"sector\" + 0.021*\"informacion\" + 0.016*\"ataqu\" + 0.012*\"posicion\"')\n",
      "(4, '0.082*\"accion\" + 0.036*\"mujer\" + 0.020*\"poder\" + 0.020*\"mal\"')\n"
     ]
    }
   ],
   "source": [
    "dictionary = corpora.Dictionary(negative_tokens)\n",
    "dictionary.filter_extremes(0.05, 10)\n",
    "dictionary.compactify()\n",
    "corpus = [dictionary.doc2bow(token) for token in tokens]\n",
    "lda = LdaModel(corpus, num_topics=5, id2word=dictionary, passes=15)\n",
    "topics = lda.print_topics(num_words=4)\n",
    "for topic in topics:\n",
    "    print(topic)"
   ]
  },
  {
   "cell_type": "code",
   "execution_count": 225,
   "metadata": {
    "collapsed": false
   },
   "outputs": [
    {
     "name": "stdout",
     "output_type": "stream",
     "text": [
      "LSA Topics:\n",
      "Topic:  0 -0.888*\"debat\" + -0.407*\"accion\" + -0.106*\"gent\" + -0.071*\"favor\" + -0.065*\"sector\" + -0.058*\"mujer\" + -0.053*\"quien\" + -0.047*\"pued\" + -0.044*\"pared\" + -0.036*\"mal\"\n",
      "Topic:  1 0.873*\"accion\" + -0.432*\"debat\" + 0.130*\"sector\" + 0.101*\"quien\" + 0.067*\"mujer\" + 0.045*\"ley\" + 0.039*\"part\" + 0.036*\"favor\" + 0.036*\"grand\" + 0.033*\"mayor\"\n",
      "Topic:  2 0.947*\"gent\" + 0.171*\"favor\" + -0.119*\"debat\" + 0.084*\"porqu\" + 0.077*\"part\" + -0.075*\"accion\" + 0.075*\"opinion\" + 0.072*\"quien\" + 0.067*\"ley\" + 0.064*\"bien\"\n",
      "Topic:  3 0.601*\"favor\" + 0.521*\"quien\" + 0.298*\"ley\" + -0.239*\"gent\" + 0.231*\"part\" + 0.182*\"sector\" + -0.175*\"accion\" + 0.153*\"mal\" + 0.100*\"parec\" + 0.074*\"bien\"\n",
      "Topic:  4 -0.663*\"sector\" + 0.499*\"quien\" + -0.381*\"favor\" + 0.262*\"part\" + -0.176*\"informacion\" + 0.070*\"posibl\" + 0.067*\"mujer\" + 0.063*\"pared\" + 0.061*\"parec\" + 0.058*\"ley\"\n"
     ]
    }
   ],
   "source": [
    "tfidf = TfidfModel(corpus)\n",
    "corpus_tfidf = tfidf[corpus]\n",
    "\n",
    "lsi = LsiModel(corpus_tfidf, id2word=dictionary, num_topics=5)\n",
    "\n",
    "print(\"LSA Topics:\")\n",
    "for i in lsi.show_topics():\n",
    "    print(\"Topic: \", i[0], i[1])"
   ]
  },
  {
   "cell_type": "code",
   "execution_count": 227,
   "metadata": {
    "collapsed": false
   },
   "outputs": [],
   "source": [
    "import pyLDAvis.gensim"
   ]
  },
  {
   "cell_type": "code",
   "execution_count": 230,
   "metadata": {
    "collapsed": false
   },
   "outputs": [
    {
     "name": "stderr",
     "output_type": "stream",
     "text": [
      "//anaconda/envs/py36/lib/python3.6/site-packages/jupyter_client/jsonutil.py:67: DeprecationWarning: Interpreting naive datetime as local 2018-12-26 11:21:18.808181. Please add timezone info to timestamps.\n",
      "  new_obj[k] = extract_dates(v)\n"
     ]
    },
    {
     "data": {
      "text/html": [
       "\n",
       "<link rel=\"stylesheet\" type=\"text/css\" href=\"https://cdn.rawgit.com/bmabey/pyLDAvis/files/ldavis.v1.0.0.css\">\n",
       "\n",
       "\n",
       "<div id=\"ldavis_el205248827663689333631497\"></div>\n",
       "<script type=\"text/javascript\">\n",
       "\n",
       "var ldavis_el205248827663689333631497_data = {\"mdsDat\": {\"Freq\": [27.862229087455955, 20.68489924532332, 26.28114128302351, 12.874794946104434, 12.296935438092788], \"cluster\": [1, 1, 1, 1, 1], \"topics\": [1, 2, 3, 4, 5], \"x\": [0.08139890878929702, -0.09419437272545272, 0.08475734313312216, -0.05270916423727133, -0.01925271495969514], \"y\": [-0.09755676956198153, 0.011042422193107639, 0.10468401920642775, 0.007215536473304465, -0.025385208310858335]}, \"tinfo\": {\"Category\": [\"Default\", \"Default\", \"Default\", \"Default\", \"Default\", \"Default\", \"Default\", \"Default\", \"Default\", \"Default\", \"Default\", \"Default\", \"Default\", \"Default\", \"Default\", \"Default\", \"Default\", \"Default\", \"Default\", \"Default\", \"Default\", \"Default\", \"Default\", \"Default\", \"Default\", \"Default\", \"Default\", \"Default\", \"Default\", \"Default\", \"Topic1\", \"Topic1\", \"Topic1\", \"Topic1\", \"Topic1\", \"Topic1\", \"Topic1\", \"Topic1\", \"Topic1\", \"Topic1\", \"Topic1\", \"Topic1\", \"Topic1\", \"Topic1\", \"Topic1\", \"Topic1\", \"Topic1\", \"Topic1\", \"Topic1\", \"Topic1\", \"Topic1\", \"Topic1\", \"Topic1\", \"Topic1\", \"Topic1\", \"Topic1\", \"Topic1\", \"Topic1\", \"Topic1\", \"Topic1\", \"Topic1\", \"Topic1\", \"Topic1\", \"Topic1\", \"Topic1\", \"Topic1\", \"Topic1\", \"Topic1\", \"Topic2\", \"Topic2\", \"Topic2\", \"Topic2\", \"Topic2\", \"Topic2\", \"Topic2\", \"Topic2\", \"Topic2\", \"Topic2\", \"Topic2\", \"Topic2\", \"Topic2\", \"Topic2\", \"Topic2\", \"Topic2\", \"Topic2\", \"Topic2\", \"Topic2\", \"Topic2\", \"Topic2\", \"Topic2\", \"Topic2\", \"Topic2\", \"Topic2\", \"Topic2\", \"Topic2\", \"Topic2\", \"Topic2\", \"Topic2\", \"Topic2\", \"Topic2\", \"Topic2\", \"Topic2\", \"Topic2\", \"Topic2\", \"Topic2\", \"Topic2\", \"Topic2\", \"Topic2\", \"Topic3\", \"Topic3\", \"Topic3\", \"Topic3\", \"Topic3\", \"Topic3\", \"Topic3\", \"Topic3\", \"Topic3\", \"Topic3\", \"Topic3\", \"Topic3\", \"Topic3\", \"Topic3\", \"Topic3\", \"Topic3\", \"Topic3\", \"Topic3\", \"Topic3\", \"Topic3\", \"Topic3\", \"Topic3\", \"Topic3\", \"Topic3\", \"Topic3\", \"Topic3\", \"Topic3\", \"Topic3\", \"Topic3\", \"Topic3\", \"Topic3\", \"Topic3\", \"Topic3\", \"Topic3\", \"Topic3\", \"Topic3\", \"Topic3\", \"Topic3\", \"Topic3\", \"Topic3\", \"Topic3\", \"Topic3\", \"Topic3\", \"Topic4\", \"Topic4\", \"Topic4\", \"Topic4\", \"Topic4\", \"Topic4\", \"Topic4\", \"Topic4\", \"Topic4\", \"Topic4\", \"Topic4\", \"Topic4\", \"Topic4\", \"Topic4\", \"Topic4\", \"Topic4\", \"Topic4\", \"Topic4\", \"Topic4\", \"Topic4\", \"Topic4\", \"Topic4\", \"Topic4\", \"Topic4\", \"Topic4\", \"Topic4\", \"Topic4\", \"Topic4\", \"Topic4\", \"Topic4\", \"Topic4\", \"Topic4\", \"Topic5\", \"Topic5\", \"Topic5\", \"Topic5\", \"Topic5\", \"Topic5\", \"Topic5\", \"Topic5\", \"Topic5\", \"Topic5\", \"Topic5\", \"Topic5\", \"Topic5\", \"Topic5\", \"Topic5\", \"Topic5\", \"Topic5\", \"Topic5\", \"Topic5\", \"Topic5\", \"Topic5\", \"Topic5\", \"Topic5\", \"Topic5\", \"Topic5\", \"Topic5\", \"Topic5\", \"Topic5\", \"Topic5\", \"Topic5\", \"Topic5\", \"Topic5\", \"Topic5\"], \"Freq\": [23.0, 15.0, 21.0, 9.0, 10.0, 13.0, 5.0, 6.0, 4.0, 3.0, 13.0, 3.0, 6.0, 2.0, 7.0, 4.0, 3.0, 2.0, 3.0, 1.0, 3.0, 3.0, 3.0, 2.0, 3.0, 4.0, 2.0, 2.0, 2.0, 1.0, 3.5327279527371434, 3.109482479524648, 3.475091720974149, 2.680107610168859, 2.6793072910885547, 2.677426762216191, 2.6771325613026318, 2.2232826170907947, 1.8151630271851498, 1.8030060898643452, 1.3834623291479193, 1.3832064290686004, 3.0100051116839928, 3.3690680671405873, 10.938451415819163, 16.783119157370763, 0.9512221575470916, 0.9511712300642009, 0.9511691256227591, 0.9511505013159994, 0.9503374503649724, 0.9502906265428931, 0.9494919910157422, 1.820361628878749, 3.1196103144072995, 0.5188435663104317, 0.5188435663104317, 0.5188433558662875, 0.5188418827572783, 0.5188416197020981, 8.72669272006349, 1.2136529499923012, 3.6614288571030515, 0.949985798200053, 1.3842441291435361, 1.8951139142200732, 0.9701802287194016, 0.9509613120303845, 4.209877663833486, 3.4558440784161304, 8.171527034268502, 1.9562480487599225, 1.9501710310284122, 1.2045375786254604, 1.2039324078363762, 1.200841716953439, 1.9550208339546415, 8.293146755559574, 0.8281653275691299, 0.8281335340347092, 0.828105255755937, 0.8276895181879099, 2.2576401311845196, 1.580709225759451, 1.5811458986277844, 4.1174058174452846, 1.2038954585936712, 1.2058428321061376, 0.45172019354568754, 0.4517126162168453, 0.4517088666108202, 0.45170820261808664, 0.45170730427497646, 0.4517070308662038, 0.45170660122384676, 0.451705859114321, 0.4516455529507514, 0.45164231110387565, 1.5789798762139824, 1.5795932492662463, 0.8307601330552545, 1.5443597637847242, 0.8312027427997944, 0.8302064412322226, 0.8287012087635429, 1.1637406152042749, 0.5400172442089598, 0.45328475571803445, 15.245233240326357, 23.09771455234242, 5.5572815817665475, 2.6102942963138953, 5.995862546764475, 2.193172405883372, 1.350121680280342, 1.3497072077980634, 1.671180243341879, 3.8422305774879173, 0.9281675528419872, 0.9281639798033468, 0.9281330134684639, 0.9267940172379988, 0.9249319678510183, 2.6126409886920077, 1.3510235747838062, 0.5063063244082809, 0.5063047363911074, 0.5063042897612774, 0.5063020566121272, 0.5063006174715637, 0.5062953075391399, 0.5062902953599361, 0.5062870200745158, 0.5062682616216541, 0.506267814991824, 0.5062098523649919, 0.5062060808242049, 0.5062050883134714, 3.509332552389488, 4.456622908783468, 1.1840371176724414, 2.009103747287938, 2.2625125802570087, 1.4784456757796822, 0.921834738856289, 0.6772779602420348, 0.6077773465083394, 0.5799882866108269, 0.7029117334563759, 0.5895091939488996, 0.5070516007180106, 2.990635488486037, 2.091759803755178, 0.9398848931360758, 0.9397421394394201, 0.9387856507743618, 0.6461807828846344, 0.6453630123042352, 0.6435027896610639, 1.7420795671265683, 0.6245775684041187, 1.228239289156612, 1.1801349886428163, 0.3524509273735272, 0.3524496388949981, 0.35244876370203493, 0.35242031993073264, 0.3524191773176974, 0.35241929887227563, 0.3524186424775533, 0.3524175241754337, 0.3517378395958866, 0.3508936916720147, 0.35084375705128396, 0.6473890840139229, 1.48511707852654, 1.2385961281951812, 0.3520765878944562, 0.35171343143658107, 0.3523286434678429, 0.35232759809847025, 0.6435087701463121, 0.35099570027405275, 1.488212279357601, 1.2017406126994283, 0.916605383045846, 0.6301716574896526, 0.6296627730398543, 0.6296531600556319, 1.2079098265932975, 0.34374619817109964, 0.3437455247978087, 0.3437389303835113, 0.34373774617530994, 0.34373723534039957, 0.3437304551679529, 0.34372876012484127, 0.3437283886085428, 0.3437002462489354, 0.3436987137442043, 0.34369857442559243, 0.34369785461276414, 0.34094552255525357, 1.1905404179710586, 0.6307939472895521, 0.6300917814854864, 0.6314474908980585, 0.6199889065841184, 0.9186256886768034, 0.9168068377586792, 0.9175212636005937, 0.3440242781204875, 0.34308624590644504, 1.7732896453476998, 1.3650068865779208, 0.4563394136437775], \"Term\": [\"accion\", \"gent\", \"debat\", \"part\", \"sector\", \"favor\", \"opinion\", \"senador\", \"informacion\", \"legal\", \"mujer\", \"discusion\", \"ser\", \"organizacion\", \"parec\", \"darl\", \"posicion\", \"mejor\", \"muert\", \"desinformacion\", \"sexual\", \"dond\", \"lugar\", \"grand\", \"mensaj\", \"pued\", \"intervencion\", \"salud\", \"particular\", \"actric\", \"posicion\", \"sexual\", \"muert\", \"hombr\", \"realment\", \"comunicacion\", \"gestant\", \"suficient\", \"person\", \"expon\", \"real\", \"integr\", \"social\", \"pued\", \"favor\", \"debat\", \"educ\", \"menor\", \"diputad\", \"primer\", \"cort\", \"adolescent\", \"local\", \"cuestion\", \"call\", \"charl\", \"comprob\", \"anterior\", \"lament\", \"camin\", \"mujer\", \"expositor\", \"parec\", \"respond\", \"mayor\", \"ser\", \"intervencion\", \"pobr\", \"informacion\", \"discusion\", \"part\", \"salud\", \"particular\", \"exist\", \"valor\", \"incident\", \"cual\", \"sector\", \"hospital\", \"entiend\", \"post\", \"falac\", \"mensaj\", \"personaj\", \"moral\", \"ser\", \"nivel\", \"referent\", \"reconoc\", \"dobl\", \"necesit\", \"permit\", \"intent\", \"luch\", \"soport\", \"amig\", \"nombr\", \"aport\", \"gener\", \"mayor\", \"sirv\", \"lugar\", \"realidad\", \"nadi\", \"diferent\", \"mujer\", \"social\", \"algun\", \"gent\", \"accion\", \"opinion\", \"grand\", \"senador\", \"posibl\", \"convenc\", \"expresion\", \"entidad\", \"darl\", \"individual\", \"capaz\", \"participacion\", \"verdad\", \"entrar\", \"diferent\", \"imagen\", \"felic\", \"tard\", \"bondi\", \"qued\", \"internet\", \"joven\", \"involucr\", \"escuch\", \"influenc\", \"inclus\", \"misoprostol\", \"publicacion\", \"condicion\", \"mujer\", \"debat\", \"dond\", \"parec\", \"sector\", \"favor\", \"call\", \"pued\", \"mejor\", \"fuert\", \"part\", \"mensaj\", \"avanc\", \"legal\", \"organizacion\", \"opositor\", \"personal\", \"ven\", \"situacion\", \"religion\", \"inevit\", \"mejor\", \"dificil\", \"libr\", \"fuert\", \"abrir\", \"catedr\", \"viral\", \"rol\", \"principal\", \"expert\", \"comun\", \"apoy\", \"unirs\", \"tradicional\", \"aparec\", \"material\", \"dond\", \"lugar\", \"emocion\", \"entend\", \"encontr\", \"verd\", \"darl\", \"realidad\", \"desinformacion\", \"actric\", \"central\", \"visibilic\", \"defend\", \"present\", \"exposicion\", \"dolor\", \"desastr\", \"relacion\", \"interrupcion\", \"much\", \"profesional\", \"suced\", \"general\", \"agres\", \"nacion\", \"viralizacion\", \"algunx\", \"mediant\", \"intervencion\", \"constant\", \"par\", \"quier\", \"usaron\", \"frent\", \"pobr\", \"nadi\", \"interes\", \"facebook\", \"parec\", \"favor\", \"expositor\"], \"Total\": [23.0, 15.0, 21.0, 9.0, 10.0, 13.0, 5.0, 6.0, 4.0, 3.0, 13.0, 3.0, 6.0, 2.0, 7.0, 4.0, 3.0, 2.0, 3.0, 1.0, 3.0, 3.0, 3.0, 2.0, 3.0, 4.0, 2.0, 2.0, 2.0, 1.0, 3.8193466492256243, 3.38802673458389, 3.8130204332639432, 2.956261747609677, 2.956176550317686, 2.9561442707751477, 2.9561826961405555, 2.5234633217842584, 2.091594115092948, 2.0910979203509488, 1.6592941927240448, 1.6593102474821937, 3.7520987203531564, 4.238749861291486, 13.927667405494036, 21.43815329562906, 1.2269441589086292, 1.226933562042294, 1.2269326388164585, 1.2269287893278855, 1.2269062160054418, 1.226916593612036, 1.226710898980839, 2.386847205778686, 4.2328417778390905, 0.7945657323196269, 0.7945659258135586, 0.7945658308976877, 0.7945653350455386, 0.7945652452845425, 13.518242908020843, 1.8884340154551476, 7.645191004673835, 1.648644097570328, 3.165270147570793, 6.533975204716004, 2.3791984909196944, 2.0862523304188763, 4.503565030218124, 3.749880415135857, 9.08856301108802, 2.2443091855328756, 2.245197648190341, 1.4915172853976117, 1.4915966658017579, 1.4919630293414647, 2.532438724474107, 10.760776717442747, 1.115077414762195, 1.1150756324095132, 1.1150737994344857, 1.1151353347147928, 3.0515366466770817, 2.161964470461272, 2.3000105184049335, 6.533975204716004, 1.9135446413068726, 1.923414329695628, 0.7386329799235778, 0.7386327975224185, 0.7386322400155393, 0.7386321811939214, 0.7386320951127223, 0.7386320750153657, 0.7386319974305604, 0.7386318261718551, 0.7386273978191984, 0.7386270374663242, 2.594809985339972, 3.165270147570793, 1.5366968773475338, 3.477421317758018, 1.696169782884638, 2.2686300249736346, 3.6457898842645067, 13.518242908020843, 3.7520987203531564, 1.465810006092043, 15.545490089958282, 23.56939269287621, 5.846642931197388, 2.8934366501149404, 6.701471885374119, 2.471603818194028, 1.6279802021831942, 1.6279311050003904, 2.05213377158147, 4.749192870403787, 1.2060411636980595, 1.206040509725033, 1.2060337972259736, 1.2057286829564813, 1.2054667694987447, 3.6457898842645067, 2.060277737571891, 0.7841210559745051, 0.7841206565784475, 0.7841205589480933, 0.784120130750007, 0.7841198220582171, 0.7841186819055987, 0.7841177520817959, 0.7841172351009977, 0.7841140027568613, 0.7841138474347789, 0.7841014079281899, 0.7841007065267943, 0.7841009847693241, 13.518242908020843, 21.43815329562906, 3.1206893898522936, 7.645191004673835, 10.760776717442747, 13.927667405494036, 4.2328417778390905, 4.238749861291486, 2.5777866340325923, 1.982473763041428, 9.08856301108802, 3.0515366466770817, 1.1609723850710214, 3.6794161552627114, 2.717490246612234, 1.2433900777897968, 1.2434606921257192, 1.2437831465865796, 0.9496539164075173, 0.9500159903631127, 0.9496015268996525, 2.5777866340325923, 0.9560476546132606, 1.9162098688994615, 1.982473763041428, 0.6559249319020188, 0.6559252492771352, 0.6559254958539215, 0.6559324024677754, 0.6559330737229352, 0.65593332446207, 0.6559337432932155, 0.6559336074142602, 0.6562382843135091, 0.6566546523331517, 0.6566218179537613, 1.2361581170143365, 3.1206893898522936, 3.477421317758018, 1.0325868934626605, 1.0326524193500455, 1.0883473110542412, 1.088348186595219, 4.749192870403787, 1.696169782884638, 1.7946771691555385, 1.5087417674410133, 1.221596935791877, 0.9351258222427568, 0.9353704181053328, 0.9353907883891035, 2.2224334213516475, 0.6486535159434741, 0.648653784047345, 0.6486557377695856, 0.6486562674180111, 0.6486562562279932, 0.6486581857619917, 0.6486585970211782, 0.6486587717415537, 0.6486677479697793, 0.6486680589935023, 0.6486683287397501, 0.6486682369295276, 0.6499739579752356, 2.3791984909196944, 1.356763380743945, 1.3570976949268505, 1.366856870507826, 1.3726884675701312, 2.080136297750524, 2.0862523304188763, 2.2686300249736346, 1.0808597826150916, 1.081354575968962, 7.645191004673835, 13.927667405494036, 1.8884340154551476], \"loglift\": [30.0, 29.0, 28.0, 27.0, 26.0, 25.0, 24.0, 23.0, 22.0, 21.0, 20.0, 19.0, 18.0, 17.0, 16.0, 15.0, 14.0, 13.0, 12.0, 11.0, 10.0, 9.0, 8.0, 7.0, 6.0, 5.0, 4.0, 3.0, 2.0, 1.0, 1.1999, 1.1921, 1.1851, 1.1798, 1.1796, 1.1789, 1.1787, 1.1513, 1.1361, 1.1297, 1.0961, 1.0959, 1.0575, 1.0483, 1.0363, 1.0331, 1.0234, 1.0233, 1.0233, 1.0233, 1.0225, 1.0224, 1.0217, 1.007, 0.9727, 0.8517, 0.8517, 0.8517, 0.8517, 0.8517, 0.8402, 0.8358, 0.5417, 0.7266, 0.4508, 0.0402, 0.3809, 0.4922, 1.5083, 1.4941, 1.4694, 1.4384, 1.4349, 1.3621, 1.3615, 1.3587, 1.317, 1.3153, 1.2783, 1.2783, 1.2782, 1.2777, 1.2744, 1.2626, 1.201, 1.114, 1.1124, 1.1088, 1.084, 1.084, 1.084, 1.084, 1.084, 1.084, 1.084, 1.084, 1.0839, 1.0839, 1.079, 0.8807, 0.9607, 0.7641, 0.8625, 0.5705, 0.0943, -0.8766, -0.3627, 0.4021, 1.3168, 1.3161, 1.2856, 1.2333, 1.2251, 1.2168, 1.1492, 1.1489, 1.131, 1.1244, 1.0744, 1.0744, 1.0744, 1.0732, 1.0714, 1.0031, 0.9143, 0.8989, 0.8989, 0.8989, 0.8989, 0.8989, 0.8989, 0.8989, 0.8989, 0.8988, 0.8988, 0.8987, 0.8987, 0.8987, -0.0123, -0.2345, 0.3672, -0.0001, -0.2231, -0.9066, -0.1879, -0.4976, -0.1086, 0.1072, -1.2232, -0.3078, 0.5079, 1.8426, 1.7882, 1.7701, 1.7699, 1.7686, 1.6649, 1.6632, 1.6608, 1.658, 1.6242, 1.6051, 1.5312, 1.4288, 1.4288, 1.4288, 1.4287, 1.4287, 1.4287, 1.4287, 1.4287, 1.4263, 1.4232, 1.4231, 1.4031, 1.3073, 1.0176, 0.9739, 0.9728, 0.922, 0.922, 0.0511, 0.4745, 1.9086, 1.8683, 1.8086, 1.7011, 1.7001, 1.7, 1.4861, 1.4608, 1.4608, 1.4608, 1.4608, 1.4608, 1.4608, 1.4608, 1.4608, 1.4607, 1.4607, 1.4607, 1.4607, 1.4506, 1.4035, 1.3299, 1.3286, 1.3236, 1.301, 1.2785, 1.2736, 1.1906, 0.951, 0.9478, 0.6346, -0.2269, 0.6756], \"logprob\": [30.0, 29.0, 28.0, 27.0, 26.0, 25.0, 24.0, 23.0, 22.0, 21.0, 20.0, 19.0, 18.0, 17.0, 16.0, 15.0, 14.0, 13.0, 12.0, 11.0, 10.0, 9.0, 8.0, 7.0, 6.0, 5.0, 4.0, 3.0, 2.0, 1.0, -4.158299922943115, -4.285900115966797, -4.174699783325195, -4.434500217437744, -4.434800148010254, -4.435500144958496, -4.4355998039245605, -4.621399879455566, -4.82420015335083, -4.830900192260742, -5.095799922943115, -5.0960001945495605, -4.318399906158447, -4.205699920654297, -3.02810001373291, -2.5999999046325684, -5.470399856567383, -5.470399856567383, -5.470399856567383, -5.4704999923706055, -5.47130012512207, -5.471399784088135, -5.4721999168396, -4.821300029754639, -4.282700061798096, -6.076499938964844, -6.076499938964844, -6.076499938964844, -6.076499938964844, -6.076499938964844, -3.253999948501587, -5.2266998291015625, -4.122499942779541, -5.471700191497803, -5.095200061798096, -4.781099796295166, -5.4506001472473145, -5.470699787139893, -3.6851000785827637, -3.8824000358581543, -3.0218000411987305, -4.451499938964844, -4.454599857330322, -4.936399936676025, -4.9369001388549805, -4.939499855041504, -4.452099800109863, -3.0071001052856445, -5.310999870300293, -5.311100006103516, -5.311100006103516, -5.311600208282471, -4.308199882507324, -4.664599895477295, -4.664400100708008, -3.7072999477386475, -4.9369001388549805, -4.935299873352051, -5.917200088500977, -5.917200088500977, -5.917200088500977, -5.917200088500977, -5.917200088500977, -5.917200088500977, -5.917200088500977, -5.917200088500977, -5.917399883270264, -5.917399883270264, -4.6656999588012695, -4.665299892425537, -5.3078999519348145, -4.687900066375732, -5.307400226593018, -5.308599948883057, -5.310400009155273, -4.970900058746338, -5.738699913024902, -5.913700103759766, -2.637700080871582, -2.2221999168395996, -3.6468000411987305, -4.402500152587891, -3.5708999633789062, -4.576600074768066, -5.061800003051758, -5.062099933624268, -4.848400115966797, -4.015900135040283, -5.436500072479248, -5.436500072479248, -5.436500072479248, -5.438000202178955, -5.440000057220459, -4.401599884033203, -5.061100006103516, -6.042600154876709, -6.042600154876709, -6.042600154876709, -6.042600154876709, -6.042600154876709, -6.042600154876709, -6.042600154876709, -6.042600154876709, -6.042600154876709, -6.042600154876709, -6.042799949645996, -6.042799949645996, -6.042799949645996, -4.106500148773193, -3.8675999641418457, -5.192999839782715, -4.664299964904785, -4.545499801635742, -4.9710001945495605, -5.443299770355225, -5.7515997886657715, -5.859899997711182, -5.906700134277344, -5.7144999504089355, -5.890399932861328, -6.041100025177002, -3.5529000759124756, -3.910399913787842, -4.710400104522705, -4.7104997634887695, -4.71150016784668, -5.085000038146973, -5.086299896240234, -5.089200019836426, -4.093299865722656, -5.11899995803833, -4.442800045013428, -4.482699871063232, -5.691199779510498, -5.691199779510498, -5.691199779510498, -5.691299915313721, -5.691299915313721, -5.691299915313721, -5.691299915313721, -5.691299915313721, -5.69320011138916, -5.6956000328063965, -5.695799827575684, -5.083199977874756, -4.252900123596191, -4.4344000816345215, -5.692299842834473, -5.693299770355225, -5.6915998458862305, -5.6915998458862305, -5.089200019836426, -5.695400238037109, -4.204899787902832, -4.418700218200684, -4.689499855041504, -5.064199924468994, -5.065000057220459, -5.065000057220459, -4.413599967956543, -5.670300006866455, -5.670300006866455, -5.670300006866455, -5.670300006866455, -5.670300006866455, -5.670300006866455, -5.670400142669678, -5.670400142669678, -5.670400142669678, -5.670400142669678, -5.670400142669678, -5.670400142669678, -5.678500175476074, -4.427999973297119, -5.063199996948242, -5.064300060272217, -5.06220006942749, -5.08050012588501, -4.687300205230713, -4.689300060272217, -4.688499927520752, -5.66949987411499, -5.6722002029418945, -4.029600143432617, -4.291299819946289, -5.38700008392334]}, \"token.table\": {\"Topic\": [3, 5, 1, 1, 1, 3, 3, 1, 3, 1, 3, 5, 1, 1, 1, 3, 3, 5, 3, 1, 2, 1, 3, 4, 1, 3, 5, 5, 2, 3, 4, 1, 2, 3, 4, 1, 1, 3, 2, 3, 3, 2, 1, 3, 5, 1, 3, 1, 2, 1, 3, 5, 3, 1, 5, 3, 4, 1, 2, 3, 1, 3, 1, 2, 1, 3, 2, 3, 3, 4, 3, 2, 1, 1, 3, 1, 5, 3, 3, 1, 4, 4, 1, 1, 2, 4, 4, 1, 2, 3, 4, 1, 2, 3, 3, 1, 2, 1, 1, 2, 3, 2, 5, 2, 3, 3, 4, 4, 3, 5, 1, 3, 5, 2, 3, 3, 2, 1, 2, 4, 1, 5, 3, 1, 2, 5, 1, 3, 1, 3, 3, 1, 5, 1, 2, 1, 1, 2, 4, 1, 3, 2, 2, 3, 1, 3, 1, 2, 1, 2, 3, 4, 1, 2, 1, 3, 1, 5, 2, 4, 1, 3, 5], \"Freq\": [0.9758418598096374, 0.6628039480182925, 0.815051328840541, 0.682216655531008, 1.2585489598391313, 0.8613469302621061, 1.2753140937173124, 0.7087437134329956, 0.2362479044776652, 1.258549887419112, 0.8291595447552516, 0.8186006126085843, 1.258549115981425, 1.2585488094975843, 1.0148354495612464, 1.275345930466076, 0.7370481943960462, 0.7370481943960462, 0.6142580841333054, 0.8150582228328727, 0.7897525735456148, 0.8379254420466848, 0.8422483797041308, 0.2105620949260327, 0.7929787498751613, 0.18658323526474382, 1.0690951741082206, 0.5572032771055625, 0.2742889831133913, 0.8228669493401738, 1.0459729650239233, 0.8150406700115456, 0.8000255122512516, 0.32044201619416257, 0.32044201619416257, 0.8150330173864663, 0.918824340211157, 0.9745953347177299, 0.896800155016524, 0.829554182083193, 1.2753194997316895, 0.6704582037300479, 0.9564353637080468, 0.44995723624054235, 0.44995723624054235, 0.5295392858929103, 0.6142766096970426, 0.9247660501218454, 0.8967521419772428, 0.7897948507630818, 0.07179953188755288, 0.07179953188755288, 1.2753132853411273, 0.4807377291004478, 0.4807377291004478, 0.5044202948067479, 0.5044202948067479, 0.3853846738873945, 0.770769347774789, 0.9649100744459228, 1.014822258420175, 1.0368293357592004, 1.0147951217194107, 0.8967987215607477, 0.4853714534519675, 0.4853714534519675, 0.6702578953591019, 1.275325009590751, 0.8291590951454098, 1.0530732856600318, 1.2753247569665975, 0.8881852428377759, 0.6026600519808645, 0.9251893872677407, 1.2753152922153201, 0.42030961427410946, 0.42030961427410946, 1.2753186588940844, 1.2753171465954072, 1.258549745242394, 0.8153467488881532, 0.5218635057830753, 0.8151879964796985, 0.28756941095786615, 0.5751388219157323, 0.28756941095786615, 0.808958001598757, 0.31592880019023223, 0.6318576003804645, 0.38792970170523294, 0.7758594034104659, 0.8150400567211223, 0.6554074984411101, 0.32770374922055506, 1.2753452421954874, 0.4347806203484252, 0.8695612406968504, 0.7867778451509639, 0.6657669980659977, 0.07397411089622197, 0.29589644358488787, 0.44079465976900384, 0.44079465976900384, 0.5225903688962495, 0.5225903688962495, 1.0262299358122773, 0.8042528389623007, 0.735973202661281, 0.7368666262850748, 0.7368666262850748, 0.5232047175217241, 0.2616023587608621, 0.2616023587608621, 0.8802271591493642, 0.11002839489367053, 0.8291641596612991, 0.89079017235388, 0.9562084658624709, 0.9250845827143886, 0.8042071666057102, 0.47932840405705895, 0.47932840405705895, 0.8091911758986424, 1.047299542923396, 0.8968016291900627, 1.0690718921042233, 0.8150432272013133, 1.2753463830297262, 0.7077558474011825, 0.23591861580039417, 1.2753147901502095, 0.7316054969445863, 0.7316054969445863, 0.6026658831116085, 0.5895636215729079, 1.0148243682122453, 0.5199087812547625, 0.5199087812547625, 1.052613861391725, 0.6065590514494544, 0.6065590514494544, 0.8911428126268314, 0.7434407580479159, 0.18586018951197897, 0.14922094983081075, 0.8953256989848645, 0.3060923767443236, 0.6121847534886472, 0.8854711709848574, 0.6507464254928942, 0.6507464254928942, 1.0530151908212404, 0.7995525234255119, 0.2665175078085039, 0.7925615493336616, 1.2753139349287819, 0.7284974148359774, 0.7284974148359774, 0.6704225230099207, 0.803998673518278, 0.9188236010466404, 0.8293739828333281, 1.0693748116180264], \"Term\": [\"accion\", \"actric\", \"adolescent\", \"algun\", \"anterior\", \"avanc\", \"bondi\", \"call\", \"call\", \"camin\", \"capaz\", \"central\", \"charl\", \"comprob\", \"comunicacion\", \"condicion\", \"constant\", \"constant\", \"convenc\", \"cort\", \"cual\", \"cuestion\", \"darl\", \"darl\", \"debat\", \"debat\", \"defend\", \"desinformacion\", \"diferent\", \"diferent\", \"dificil\", \"diputad\", \"discusion\", \"dond\", \"dond\", \"educ\", \"encontr\", \"entidad\", \"entiend\", \"entrar\", \"escuch\", \"exist\", \"expon\", \"exposicion\", \"exposicion\", \"expositor\", \"expresion\", \"facebook\", \"falac\", \"favor\", \"favor\", \"favor\", \"felic\", \"frent\", \"frent\", \"fuert\", \"fuert\", \"gener\", \"gener\", \"gent\", \"gestant\", \"grand\", \"hombr\", \"hospital\", \"imagen\", \"imagen\", \"incident\", \"inclus\", \"individual\", \"inevit\", \"influenc\", \"informacion\", \"integr\", \"interes\", \"internet\", \"intervencion\", \"intervencion\", \"involucr\", \"joven\", \"lament\", \"legal\", \"libr\", \"local\", \"lugar\", \"lugar\", \"lugar\", \"material\", \"mayor\", \"mayor\", \"mejor\", \"mejor\", \"menor\", \"mensaj\", \"mensaj\", \"misoprostol\", \"moral\", \"moral\", \"muert\", \"mujer\", \"mujer\", \"mujer\", \"nadi\", \"nadi\", \"nivel\", \"nivel\", \"opinion\", \"opositor\", \"organizacion\", \"par\", \"par\", \"parec\", \"parec\", \"parec\", \"part\", \"part\", \"participacion\", \"particular\", \"person\", \"personaj\", \"personal\", \"pobr\", \"pobr\", \"posibl\", \"posicion\", \"post\", \"present\", \"primer\", \"publicacion\", \"pued\", \"pued\", \"qued\", \"quier\", \"quier\", \"real\", \"realidad\", \"realment\", \"referent\", \"referent\", \"religion\", \"respond\", \"respond\", \"salud\", \"sector\", \"sector\", \"senador\", \"senador\", \"ser\", \"ser\", \"sexual\", \"sirv\", \"sirv\", \"situacion\", \"social\", \"social\", \"suficient\", \"tard\", \"usaron\", \"usaron\", \"valor\", \"ven\", \"verd\", \"verdad\", \"visibilic\"]}, \"R\": 30, \"lambda.step\": 0.01, \"plot.opts\": {\"xlab\": \"PC1\", \"ylab\": \"PC2\"}, \"topic.order\": [1, 2, 3, 4, 5]};\n",
       "\n",
       "function LDAvis_load_lib(url, callback){\n",
       "  var s = document.createElement('script');\n",
       "  s.src = url;\n",
       "  s.async = true;\n",
       "  s.onreadystatechange = s.onload = callback;\n",
       "  s.onerror = function(){console.warn(\"failed to load library \" + url);};\n",
       "  document.getElementsByTagName(\"head\")[0].appendChild(s);\n",
       "}\n",
       "\n",
       "if(typeof(LDAvis) !== \"undefined\"){\n",
       "   // already loaded: just create the visualization\n",
       "   !function(LDAvis){\n",
       "       new LDAvis(\"#\" + \"ldavis_el205248827663689333631497\", ldavis_el205248827663689333631497_data);\n",
       "   }(LDAvis);\n",
       "}else if(typeof define === \"function\" && define.amd){\n",
       "   // require.js is available: use it to load d3/LDAvis\n",
       "   require.config({paths: {d3: \"https://cdnjs.cloudflare.com/ajax/libs/d3/3.5.5/d3.min\"}});\n",
       "   require([\"d3\"], function(d3){\n",
       "      window.d3 = d3;\n",
       "      LDAvis_load_lib(\"https://cdn.rawgit.com/bmabey/pyLDAvis/files/ldavis.v1.0.0.js\", function(){\n",
       "        new LDAvis(\"#\" + \"ldavis_el205248827663689333631497\", ldavis_el205248827663689333631497_data);\n",
       "      });\n",
       "    });\n",
       "}else{\n",
       "    // require.js not available: dynamically load d3 & LDAvis\n",
       "    LDAvis_load_lib(\"https://cdnjs.cloudflare.com/ajax/libs/d3/3.5.5/d3.min.js\", function(){\n",
       "         LDAvis_load_lib(\"https://cdn.rawgit.com/bmabey/pyLDAvis/files/ldavis.v1.0.0.js\", function(){\n",
       "                 new LDAvis(\"#\" + \"ldavis_el205248827663689333631497\", ldavis_el205248827663689333631497_data);\n",
       "            })\n",
       "         });\n",
       "}\n",
       "</script>"
      ],
      "text/plain": [
       "<IPython.core.display.HTML object>"
      ]
     },
     "execution_count": 230,
     "metadata": {},
     "output_type": "execute_result"
    }
   ],
   "source": [
    "lda_display = pyLDAvis.gensim.prepare(lda, corpus, dictionary, sort_topics=False)\n",
    "pyLDAvis.display(lda_display)"
   ]
  },
  {
   "cell_type": "code",
   "execution_count": null,
   "metadata": {
    "collapsed": true
   },
   "outputs": [],
   "source": []
  }
 ],
 "metadata": {
  "kernelspec": {
   "display_name": "Python 3",
   "language": "python",
   "name": "python3"
  },
  "language_info": {
   "codemirror_mode": {
    "name": "ipython",
    "version": 3
   },
   "file_extension": ".py",
   "mimetype": "text/x-python",
   "name": "python",
   "nbconvert_exporter": "python",
   "pygments_lexer": "ipython3",
   "version": "3.6.1"
  }
 },
 "nbformat": 4,
 "nbformat_minor": 0
}
