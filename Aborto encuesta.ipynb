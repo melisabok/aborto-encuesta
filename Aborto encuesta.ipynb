{
 "cells": [
  {
   "cell_type": "code",
   "execution_count": 63,
   "metadata": {
    "collapsed": false
   },
   "outputs": [],
   "source": [
    "import csv\n",
    "from nltk import word_tokenize\n",
    "import nltk\n",
    "from nltk.corpus import stopwords\n",
    "import string\n",
    "import json"
   ]
  },
  {
   "cell_type": "code",
   "execution_count": 9,
   "metadata": {
    "collapsed": false
   },
   "outputs": [],
   "source": [
    "rows = []\n",
    "with open('data.csv', newline='') as csvfile:\n",
    "    datareader = csv.reader(csvfile)\n",
    "    next(datareader)\n",
    "    for row in datareader:\n",
    "        rows.append(row)"
   ]
  },
  {
   "cell_type": "code",
   "execution_count": 11,
   "metadata": {
    "collapsed": false
   },
   "outputs": [
    {
     "data": {
      "text/plain": [
       "'CLAVE: difusión de datos para desmitificar la discusión. También creo que hubo una buena sinergia entre las acciones en la calle y su posterior repercusión en redes'"
      ]
     },
     "execution_count": 11,
     "metadata": {},
     "output_type": "execute_result"
    }
   ],
   "source": [
    "rows[0][12]"
   ]
  },
  {
   "cell_type": "code",
   "execution_count": 12,
   "metadata": {
    "collapsed": false
   },
   "outputs": [
    {
     "data": {
      "text/plain": [
       "'Entran en discusiones intramovimiento y la repetición de trabajo por falta de coordinación '"
      ]
     },
     "execution_count": 12,
     "metadata": {},
     "output_type": "execute_result"
    }
   ],
   "source": [
    "rows[0][13]"
   ]
  },
  {
   "cell_type": "code",
   "execution_count": 147,
   "metadata": {
    "collapsed": false
   },
   "outputs": [],
   "source": [
    "stop_words = stopwords.words('spanish') + list(string.punctuation) + ['``', \"''\", '”', '“', 'mas', \n",
    "                                                                      'si', 'creo', 'aborto', 'sé', \n",
    "                                                                      'quizás', 'parece', 'sino', 'veces', 'siempre', 'aunque', 'solo']"
   ]
  },
  {
   "cell_type": "code",
   "execution_count": 148,
   "metadata": {
    "collapsed": true
   },
   "outputs": [],
   "source": [
    "replacements = {\n",
    "    'pañuelos': 'pañuelo', \n",
    "    'pañuelazo': 'pañuelo',\n",
    "    'pañuelazos': 'pañuelo',\n",
    "    'movilizacion': 'movilización',\n",
    "    'movilizaciones': 'movilización',\n",
    "    'movimiento': 'movilización',\n",
    "    'marcha': 'movilización',\n",
    "    'marchas': 'movilización',\n",
    "    'manifestaciones': 'movilización',\n",
    "    'masivos': 'masivo',\n",
    "    'masivas': 'masivo',\n",
    "    'masiva': 'masivo',\n",
    "    'debates': 'debate',\n",
    "    'tv': 'televisión',\n",
    "    'television': 'televisión',\n",
    "    'calles': 'calle',\n",
    "    'negativa': 'negativo',\n",
    "    'negativas': 'negativo'\n",
    "}"
   ]
  },
  {
   "cell_type": "code",
   "execution_count": 149,
   "metadata": {
    "collapsed": false
   },
   "outputs": [],
   "source": [
    "positive_tokens = []\n",
    "negative_tokens = []\n",
    "for row in rows:\n",
    "    positive_tokens.extend(word_tokenize(row[12]))\n",
    "    negative_tokens.extend(word_tokenize(row[13]))\n",
    "positive_tokens = [replacements.get(w.lower(), w.lower()) for w in positive_tokens if not w.lower() in stop_words]\n",
    "negative_tokens = [replacements.get(w.lower(), w.lower()) for w in negative_tokens if not w.lower() in stop_words]"
   ]
  },
  {
   "cell_type": "code",
   "execution_count": 150,
   "metadata": {
    "collapsed": false
   },
   "outputs": [],
   "source": [
    "positive_text = nltk.Text(positive_tokens)\n",
    "negative_text = nltk.Text(negative_tokens)"
   ]
  },
  {
   "cell_type": "code",
   "execution_count": 151,
   "metadata": {
    "collapsed": false
   },
   "outputs": [],
   "source": [
    "p_dist = nltk.FreqDist(positive_text)\n",
    "n_dist = nltk.FreqDist(negative_text)"
   ]
  },
  {
   "cell_type": "code",
   "execution_count": 152,
   "metadata": {
    "collapsed": false
   },
   "outputs": [
    {
     "data": {
      "text/plain": [
       "[('movilización', 341),\n",
       " ('pañuelo', 333),\n",
       " ('debate', 249),\n",
       " ('calle', 147),\n",
       " ('congreso', 145),\n",
       " ('redes', 120),\n",
       " ('mujeres', 115),\n",
       " ('medios', 109),\n",
       " ('exposiciones', 93),\n",
       " ('tema', 92),\n",
       " ('masivo', 85),\n",
       " ('información', 82),\n",
       " ('sociales', 76),\n",
       " ('difusión', 58),\n",
       " ('televisión', 57),\n",
       " ('actrices', 44),\n",
       " ('personas', 43),\n",
       " ('presencia', 40),\n",
       " ('favor', 39),\n",
       " ('comunicación', 38),\n",
       " ('verde', 37),\n",
       " ('apoyo', 35),\n",
       " ('datos', 34),\n",
       " ('testimonios', 34),\n",
       " ('vigilias', 32),\n",
       " ('cantidad', 32),\n",
       " ('gente', 32),\n",
       " ('intervenciones', 31),\n",
       " ('charlas', 29),\n",
       " ('campaña', 27),\n",
       " ('diferentes', 27),\n",
       " ('todas', 27),\n",
       " ('verdes', 27),\n",
       " ('acciones', 24),\n",
       " ('feministas', 24),\n",
       " ('gran', 24),\n",
       " ('lucha', 24),\n",
       " ('hablar', 22),\n",
       " ('informacion', 21),\n",
       " ('participación', 21),\n",
       " ('parte', 20),\n",
       " ('figuras', 20),\n",
       " ('públicas', 20),\n",
       " ('visibilizar', 20),\n",
       " ('jóvenes', 20),\n",
       " ('argumentos', 20),\n",
       " ('sociedad', 20),\n",
       " ('visibilizacion', 20),\n",
       " ('espacios', 19),\n",
       " ('programas', 19)]"
      ]
     },
     "execution_count": 152,
     "metadata": {},
     "output_type": "execute_result"
    }
   ],
   "source": [
    "p_dist.most_common(50)"
   ]
  },
  {
   "cell_type": "code",
   "execution_count": 161,
   "metadata": {
    "collapsed": false
   },
   "outputs": [
    {
     "data": {
      "text/plain": [
       "[('ninguna', 168),\n",
       " ('debate', 81),\n",
       " ('negativo', 78),\n",
       " ('medios', 72),\n",
       " ('acciones', 68),\n",
       " ('movilización', 52),\n",
       " ('iglesia', 50),\n",
       " ('personas', 48),\n",
       " ('parte', 48),\n",
       " ('gente', 43),\n",
       " ('violencia', 41),\n",
       " ('información', 41),\n",
       " ('tema', 39),\n",
       " ('falta', 33),\n",
       " ('favor', 33),\n",
       " ('antiderechos', 32),\n",
       " ('desinformación', 32),\n",
       " ('vida', 30),\n",
       " ('grupos', 30),\n",
       " ('todas', 27),\n",
       " ('argumentos', 27),\n",
       " ('redes', 26),\n",
       " ('pro', 26),\n",
       " ('mujeres', 25),\n",
       " ('vez', 25),\n",
       " ('sectores', 23),\n",
       " ('pintadas', 23),\n",
       " ('legalización', 23),\n",
       " ('provida', 23),\n",
       " ('ley', 22),\n",
       " ('sociales', 20),\n",
       " ('violentas', 20),\n",
       " ('lucha', 20),\n",
       " ('derechos', 20),\n",
       " ('comunicación', 18),\n",
       " ('muchas', 18),\n",
       " ('pañuelo', 18),\n",
       " ('legal', 18),\n",
       " ('campaña', 18),\n",
       " ('cualquier', 17),\n",
       " ('ser', 16),\n",
       " ('sociedad', 16),\n",
       " ('anti', 16),\n",
       " ('acción', 16),\n",
       " ('mucha', 14),\n",
       " ('falsa', 14),\n",
       " ('senadores', 14),\n",
       " ('bien', 14),\n",
       " ('feministas', 14),\n",
       " ('tal', 14)]"
      ]
     },
     "execution_count": 161,
     "metadata": {},
     "output_type": "execute_result"
    }
   ],
   "source": [
    "n_dist.most_common(50)"
   ]
  },
  {
   "cell_type": "code",
   "execution_count": 162,
   "metadata": {
    "collapsed": false
   },
   "outputs": [],
   "source": [
    "features = []\n",
    "for f in p_dist.most_common(50):\n",
    "    features.append({\n",
    "            'text': 'p_' + f[0],\n",
    "            'size': f[1],\n",
    "            'type': 'positive'\n",
    "        })\n",
    "for f in n_dist.most_common(50):\n",
    "    features.append({\n",
    "            'text': 'n_' + f[0],\n",
    "            'size': f[1],\n",
    "            'type': 'negative'\n",
    "        })    \n",
    "with open('most_informative_features.json', 'w') as f:\n",
    "    json.dump(features, f)"
   ]
  },
  {
   "cell_type": "code",
   "execution_count": 160,
   "metadata": {
    "collapsed": false
   },
   "outputs": [
    {
     "data": {
      "text/plain": [
       "100"
      ]
     },
     "execution_count": 160,
     "metadata": {},
     "output_type": "execute_result"
    }
   ],
   "source": [
    "len(features)"
   ]
  },
  {
   "cell_type": "code",
   "execution_count": null,
   "metadata": {
    "collapsed": true
   },
   "outputs": [],
   "source": []
  }
 ],
 "metadata": {
  "kernelspec": {
   "display_name": "Python 3",
   "language": "python",
   "name": "python3"
  },
  "language_info": {
   "codemirror_mode": {
    "name": "ipython",
    "version": 3
   },
   "file_extension": ".py",
   "mimetype": "text/x-python",
   "name": "python",
   "nbconvert_exporter": "python",
   "pygments_lexer": "ipython3",
   "version": "3.6.1"
  }
 },
 "nbformat": 4,
 "nbformat_minor": 0
}
